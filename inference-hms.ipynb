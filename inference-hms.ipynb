{
 "cells": [
  {
   "cell_type": "code",
   "execution_count": 1,
   "id": "8c455549",
   "metadata": {
    "execution": {
     "iopub.execute_input": "2024-05-10T08:21:53.107903Z",
     "iopub.status.busy": "2024-05-10T08:21:53.107134Z",
     "iopub.status.idle": "2024-05-10T08:22:14.305622Z",
     "shell.execute_reply": "2024-05-10T08:22:14.304424Z"
    },
    "papermill": {
     "duration": 21.212398,
     "end_time": "2024-05-10T08:22:14.308465",
     "exception": false,
     "start_time": "2024-05-10T08:21:53.096067",
     "status": "completed"
    },
    "tags": []
   },
   "outputs": [
    {
     "name": "stderr",
     "output_type": "stream",
     "text": [
      "2024-05-10 08:21:56.007499: E external/local_xla/xla/stream_executor/cuda/cuda_dnn.cc:9261] Unable to register cuDNN factory: Attempting to register factory for plugin cuDNN when one has already been registered\n",
      "2024-05-10 08:21:56.007675: E external/local_xla/xla/stream_executor/cuda/cuda_fft.cc:607] Unable to register cuFFT factory: Attempting to register factory for plugin cuFFT when one has already been registered\n",
      "2024-05-10 08:21:56.167575: E external/local_xla/xla/stream_executor/cuda/cuda_blas.cc:1515] Unable to register cuBLAS factory: Attempting to register factory for plugin cuBLAS when one has already been registered\n"
     ]
    }
   ],
   "source": [
    "import pandas as pd\n",
    "import matplotlib.pyplot as plt\n",
    "import os \n",
    "import numpy as np\n",
    "import tensorflow as tf\n",
    "import keras\n",
    "from tensorflow.keras import Model\n",
    "from tensorflow.keras.layers import Dense, GlobalAveragePooling2D, Lambda\n",
    "from tensorflow.keras.applications import EfficientNetB2\n",
    "from tensorflow.keras.layers import Permute\n",
    "from tensorflow.keras.layers import Layer\n",
    "import keras_cv"
   ]
  },
  {
   "cell_type": "markdown",
   "id": "3feb54fa",
   "metadata": {
    "papermill": {
     "duration": 0.009108,
     "end_time": "2024-05-10T08:22:14.327042",
     "exception": false,
     "start_time": "2024-05-10T08:22:14.317934",
     "status": "completed"
    },
    "tags": []
   },
   "source": [
    "# Montages"
   ]
  },
  {
   "cell_type": "code",
   "execution_count": 2,
   "id": "27ae082f",
   "metadata": {
    "execution": {
     "iopub.execute_input": "2024-05-10T08:22:14.348115Z",
     "iopub.status.busy": "2024-05-10T08:22:14.346776Z",
     "iopub.status.idle": "2024-05-10T08:22:14.355402Z",
     "shell.execute_reply": "2024-05-10T08:22:14.354234Z"
    },
    "papermill": {
     "duration": 0.0217,
     "end_time": "2024-05-10T08:22:14.357913",
     "exception": false,
     "start_time": "2024-05-10T08:22:14.336213",
     "status": "completed"
    },
    "tags": []
   },
   "outputs": [],
   "source": [
    "NAMES = ['LL', 'LP', 'RL', 'RP', 'C']\n",
    "\n",
    "IMP_FEATS = ['Fp1', 'F3', 'C3', 'P3', 'F7', 'T3',\n",
    "             'T5','O1', 'Fp2', 'F4', 'C4', 'P4',\n",
    "             'F8', 'T4', 'T6', 'O2', 'Fz', 'Cz', 'Pz']\n",
    "\n",
    "IMP_FEATS_index = {y:x for x,y in enumerate(IMP_FEATS)}\n",
    "\n",
    "BANANA = [['Fp1','F7','T3','T5','O1'],\n",
    "         ['Fp1','F3','C3','P3','O1'],\n",
    "         ['Fp2','F8','T4','T6','O2'],\n",
    "         ['Fp2','F4','C4','P4','O2']]\n",
    "\n",
    "CENTER = ['Fz', 'Cz', 'Pz']"
   ]
  },
  {
   "cell_type": "markdown",
   "id": "59c9b10e",
   "metadata": {
    "papermill": {
     "duration": 0.00879,
     "end_time": "2024-05-10T08:22:14.376163",
     "exception": false,
     "start_time": "2024-05-10T08:22:14.367373",
     "status": "completed"
    },
    "tags": []
   },
   "source": [
    "# Data Loader"
   ]
  },
  {
   "cell_type": "code",
   "execution_count": 3,
   "id": "bdf2fa99",
   "metadata": {
    "execution": {
     "iopub.execute_input": "2024-05-10T08:22:14.396846Z",
     "iopub.status.busy": "2024-05-10T08:22:14.395835Z",
     "iopub.status.idle": "2024-05-10T08:22:14.417553Z",
     "shell.execute_reply": "2024-05-10T08:22:14.416421Z"
    },
    "papermill": {
     "duration": 0.034649,
     "end_time": "2024-05-10T08:22:14.420006",
     "exception": false,
     "start_time": "2024-05-10T08:22:14.385357",
     "status": "completed"
    },
    "tags": []
   },
   "outputs": [],
   "source": [
    "TARS = {'Seizure':0, 'LPD':1, 'GPD':2, 'LRDA':3, 'GRDA':4, 'Other':5}\n",
    "TARS2 = {x:y for y,x in TARS.items()}\n",
    "file_path = '/kaggle/input/hms-harmful-brain-activity-classification/test_eegs/'\n",
    "class DataGenerator(tf.keras.utils.Sequence):\n",
    "    'Generate data for keras'\n",
    "    def __init__(self, data, batch_size = 32, shuffle = False, mode='train', IMP_FEATS = IMP_FEATS ,\n",
    "                 file_path = file_path, BANANA = BANANA, CENTER = CENTER):\n",
    "\n",
    "        self.data = data\n",
    "        self.batch_size = batch_size\n",
    "        self.shuffle = shuffle\n",
    "        self.mode = mode\n",
    "        self.BANANA = BANANA\n",
    "        self.CENTER = CENTER\n",
    "        self.IMP_FEATS = IMP_FEATS\n",
    "        if isinstance(file_path, str):\n",
    "            self.file_path = file_path\n",
    "        else: print('file_path must be a path to the training file signals in parquet format')\n",
    "        self.on_epoch_end()\n",
    "\n",
    "    def __len__(self):\n",
    "        'Denotes the number of batches per epoch'\n",
    "        ct = int(np.ceil(len(self.data) / self.batch_size))\n",
    "        return ct\n",
    "\n",
    "    def on_epoch_end(self):\n",
    "        'Updates indexes after each epoch'\n",
    "        self.indexes = np.arange(len(self.data))\n",
    "        if self.shuffle == True: np.random.shuffle(self.indexes)\n",
    "\n",
    "    def __getitem__(self, index):\n",
    "        'Generate one batch of data'\n",
    "        indexes = self.indexes[index*self.batch_size:(index+1)*self.batch_size]\n",
    "        X1, y = self.__data_generation(indexes)\n",
    "        return X1, y\n",
    "\n",
    "\n",
    "    def __data_generation(self, indexes):\n",
    "        'Generates data containing batch_size samples'\n",
    "\n",
    "        X1 = np.zeros((len(indexes), 10000, 18, 1), dtype='float32')\n",
    "        y = np.zeros((len(indexes),6),dtype='float32')\n",
    "\n",
    "        for j,i in enumerate(indexes):\n",
    "\n",
    "            row = self.data.iloc[i]\n",
    "            eeg = pd.read_parquet(f'{self.file_path}{row.eeg_id}.parquet', columns = self.IMP_FEATS)\n",
    "            middle = (len(eeg)-10_000)//2\n",
    "            eeg = eeg.iloc[middle:middle+10_000]\n",
    "            count = 0\n",
    "            # Calculate BANANA Features\n",
    "            for k in range(4):\n",
    "                COLS = self.BANANA[k]\n",
    "                coeff = []\n",
    "                for kk in range(4):\n",
    "                    \n",
    "                    # Calculate the differences\n",
    "                    x = eeg[COLS[kk]].values - eeg[COLS[kk+1]].values\n",
    "                    \n",
    "                    # Standardize\n",
    "                    x = np.clip(x, -1024, 1024)\n",
    "                    x = np.nan_to_num(x, nan = 0) / 32.0\n",
    "                    \n",
    "                    # Add dimension to make it compatible with cwt layer input\n",
    "                    X1[j,:,k + kk + count, :] = np.expand_dims(x, axis = -1)\n",
    "                    \n",
    "                count += 3\n",
    "            # Calculate CENTER Features\n",
    "            for m in range(2):\n",
    "                z = eeg[self.CENTER[m]].values - eeg[self.CENTER[m + 1]].values\n",
    "                \n",
    "                z = np.clip(z, -1024, 1024)\n",
    "                z = np.nan_to_num(z, nan = 0) / 32.0\n",
    "                \n",
    "                X1[j,:,-1 - m, :] = np.expand_dims(z, axis = -1)\n",
    "                \n",
    "            if self.mode != 'test':\n",
    "                y[j,] = row[TARGETS]\n",
    "\n",
    "        return X1, y"
   ]
  },
  {
   "cell_type": "markdown",
   "id": "b9e94457",
   "metadata": {
    "papermill": {
     "duration": 0.00876,
     "end_time": "2024-05-10T08:22:14.437996",
     "exception": false,
     "start_time": "2024-05-10T08:22:14.429236",
     "status": "completed"
    },
    "tags": []
   },
   "source": [
    "# CWT Layer"
   ]
  },
  {
   "cell_type": "code",
   "execution_count": 4,
   "id": "df868c85",
   "metadata": {
    "execution": {
     "iopub.execute_input": "2024-05-10T08:22:14.458864Z",
     "iopub.status.busy": "2024-05-10T08:22:14.458497Z",
     "iopub.status.idle": "2024-05-10T08:22:14.472678Z",
     "shell.execute_reply": "2024-05-10T08:22:14.471350Z"
    },
    "papermill": {
     "duration": 0.027075,
     "end_time": "2024-05-10T08:22:14.475274",
     "exception": false,
     "start_time": "2024-05-10T08:22:14.448199",
     "status": "completed"
    },
    "tags": []
   },
   "outputs": [
    {
     "name": "stdout",
     "output_type": "stream",
     "text": [
      "/kaggle/input/cmorlet-tensorflow-3/cmorlet-tensorflow-3/CWT\n"
     ]
    }
   ],
   "source": [
    "%cd /kaggle/input/cmorlet-tensorflow-3/cmorlet-tensorflow-3/CWT"
   ]
  },
  {
   "cell_type": "code",
   "execution_count": 5,
   "id": "02b26762",
   "metadata": {
    "execution": {
     "iopub.execute_input": "2024-05-10T08:22:14.495817Z",
     "iopub.status.busy": "2024-05-10T08:22:14.495418Z",
     "iopub.status.idle": "2024-05-10T08:22:14.513617Z",
     "shell.execute_reply": "2024-05-10T08:22:14.512593Z"
    },
    "papermill": {
     "duration": 0.031661,
     "end_time": "2024-05-10T08:22:14.516406",
     "exception": false,
     "start_time": "2024-05-10T08:22:14.484745",
     "status": "completed"
    },
    "tags": []
   },
   "outputs": [],
   "source": [
    "import cwt"
   ]
  },
  {
   "cell_type": "markdown",
   "id": "d9d4cc3f",
   "metadata": {
    "papermill": {
     "duration": 0.00897,
     "end_time": "2024-05-10T08:22:14.534888",
     "exception": false,
     "start_time": "2024-05-10T08:22:14.525918",
     "status": "completed"
    },
    "tags": []
   },
   "source": [
    "# Magnitude Layer"
   ]
  },
  {
   "cell_type": "code",
   "execution_count": 6,
   "id": "7b8e18f7",
   "metadata": {
    "execution": {
     "iopub.execute_input": "2024-05-10T08:22:14.555498Z",
     "iopub.status.busy": "2024-05-10T08:22:14.555088Z",
     "iopub.status.idle": "2024-05-10T08:22:14.564636Z",
     "shell.execute_reply": "2024-05-10T08:22:14.563466Z"
    },
    "papermill": {
     "duration": 0.022825,
     "end_time": "2024-05-10T08:22:14.567219",
     "exception": false,
     "start_time": "2024-05-10T08:22:14.544394",
     "status": "completed"
    },
    "tags": []
   },
   "outputs": [],
   "source": [
    "@keras.saving.register_keras_serializable()\n",
    "class Magnitude_of_Complex_CWT(Layer):\n",
    "\n",
    "    \"\"\"\n",
    "    Custom Keras layer to compute the magnitude of complex Tensor obtained from CWT.\n",
    "    \"\"\"\n",
    "    def __init__(self, magnitude = True, **kwargs):\n",
    "        super().__init__(**kwargs)\n",
    "        self.magnitude = magnitude\n",
    "        \n",
    "    def call(self, inputs):\n",
    "        if self.magnitude:\n",
    "            real_part = inputs[:, :, :, 0]\n",
    "            imag_part = inputs[:, :, :, 1]\n",
    "            result = tf.math.sqrt(tf.math.square(real_part) + tf.math.square(imag_part))\n",
    "            result = tf.expand_dims(result, axis=-1)\n",
    "            return result\n",
    "        else:\n",
    "            print(\"Layer is not activated!\")\n",
    "            \n",
    "    def get_config(self):\n",
    "        return {\"magnitude\": self.magnitude}"
   ]
  },
  {
   "cell_type": "markdown",
   "id": "3f299f2c",
   "metadata": {
    "papermill": {
     "duration": 0.008989,
     "end_time": "2024-05-10T08:22:14.585447",
     "exception": false,
     "start_time": "2024-05-10T08:22:14.576458",
     "status": "completed"
    },
    "tags": []
   },
   "source": [
    "# Scale Layer"
   ]
  },
  {
   "cell_type": "code",
   "execution_count": 7,
   "id": "18728928",
   "metadata": {
    "execution": {
     "iopub.execute_input": "2024-05-10T08:22:14.605919Z",
     "iopub.status.busy": "2024-05-10T08:22:14.605541Z",
     "iopub.status.idle": "2024-05-10T08:22:14.613675Z",
     "shell.execute_reply": "2024-05-10T08:22:14.612570Z"
    },
    "papermill": {
     "duration": 0.021267,
     "end_time": "2024-05-10T08:22:14.615937",
     "exception": false,
     "start_time": "2024-05-10T08:22:14.594670",
     "status": "completed"
    },
    "tags": []
   },
   "outputs": [],
   "source": [
    "@keras.saving.register_keras_serializable()\n",
    "class scale_to_255(Layer):\n",
    "    \"\"\"\n",
    "    Layer to Normalize the Image between values 0 and 255\n",
    "    \"\"\"\n",
    "    def __init__(self, scale = True, **kwargs):\n",
    "        super().__init__(**kwargs)\n",
    "        self.scale = scale\n",
    "\n",
    "    def call(self, x):\n",
    "        if self.scale:\n",
    "            min_val = tf.reduce_min(x)\n",
    "            max_val = tf.reduce_max(x)\n",
    "            return 255.0 * (x - min_val) / (max_val - min_val + 1e-7)\n",
    "        else:\n",
    "            print(\"layer is not acitvated!\")\n",
    "            \n",
    "    def get_config(self):\n",
    "        return {\"scale\": self.scale}"
   ]
  },
  {
   "cell_type": "markdown",
   "id": "9bda45e0",
   "metadata": {
    "papermill": {
     "duration": 0.009084,
     "end_time": "2024-05-10T08:22:14.634426",
     "exception": false,
     "start_time": "2024-05-10T08:22:14.625342",
     "status": "completed"
    },
    "tags": []
   },
   "source": [
    "# Initialize the 3 custom Layers for Training"
   ]
  },
  {
   "cell_type": "markdown",
   "id": "c0a388df",
   "metadata": {
    "papermill": {
     "duration": 0.009505,
     "end_time": "2024-05-10T08:22:14.653264",
     "exception": false,
     "start_time": "2024-05-10T08:22:14.643759",
     "status": "completed"
    },
    "tags": []
   },
   "source": [
    "## cwt"
   ]
  },
  {
   "cell_type": "code",
   "execution_count": 8,
   "id": "4db18635",
   "metadata": {
    "execution": {
     "iopub.execute_input": "2024-05-10T08:22:14.674242Z",
     "iopub.status.busy": "2024-05-10T08:22:14.673786Z",
     "iopub.status.idle": "2024-05-10T08:22:14.785481Z",
     "shell.execute_reply": "2024-05-10T08:22:14.784542Z"
    },
    "papermill": {
     "duration": 0.125204,
     "end_time": "2024-05-10T08:22:14.788214",
     "exception": false,
     "start_time": "2024-05-10T08:22:14.663010",
     "status": "completed"
    },
    "tags": []
   },
   "outputs": [],
   "source": [
    "cwt_layer = cwt.ComplexMorletCWT(\n",
    "    wavelet_width=7,  # Example wavelet width (adjust as needed)\n",
    "    fs=200,            # Example sampling frequency (adjust as needed)\n",
    "    stride=16,\n",
    "    border_crop=1,\n",
    "    lower_freq=0.5,       # Example lower frequency (adjust as needed)\n",
    "    upper_freq=40,      # Example upper frequency (adjust as needed)\n",
    "    n_scales=40,        # Example number of scales (adjust as needed)\n",
    "    trainable=False     # Example setting for wavelet width trainability (adjust as needed)\n",
    ")"
   ]
  },
  {
   "cell_type": "markdown",
   "id": "48e80559",
   "metadata": {
    "papermill": {
     "duration": 0.009034,
     "end_time": "2024-05-10T08:22:14.806618",
     "exception": false,
     "start_time": "2024-05-10T08:22:14.797584",
     "status": "completed"
    },
    "tags": []
   },
   "source": [
    "## Scale and Magnitude"
   ]
  },
  {
   "cell_type": "code",
   "execution_count": 9,
   "id": "ff70b9cf",
   "metadata": {
    "execution": {
     "iopub.execute_input": "2024-05-10T08:22:14.827248Z",
     "iopub.status.busy": "2024-05-10T08:22:14.826166Z",
     "iopub.status.idle": "2024-05-10T08:22:14.833521Z",
     "shell.execute_reply": "2024-05-10T08:22:14.832305Z"
    },
    "papermill": {
     "duration": 0.020202,
     "end_time": "2024-05-10T08:22:14.835945",
     "exception": false,
     "start_time": "2024-05-10T08:22:14.815743",
     "status": "completed"
    },
    "tags": []
   },
   "outputs": [],
   "source": [
    "# Initialize Instance for Magnitude_of_Complex_CWT Layer\n",
    "mos = Magnitude_of_Complex_CWT()\n",
    "# Initialize Instance for scale_to_255 Layer\n",
    "scale = scale_to_255()"
   ]
  },
  {
   "cell_type": "markdown",
   "id": "01c6ca60",
   "metadata": {
    "papermill": {
     "duration": 0.008899,
     "end_time": "2024-05-10T08:22:14.854093",
     "exception": false,
     "start_time": "2024-05-10T08:22:14.845194",
     "status": "completed"
    },
    "tags": []
   },
   "source": [
    "# Load the Model"
   ]
  },
  {
   "cell_type": "code",
   "execution_count": 10,
   "id": "4abd002a",
   "metadata": {
    "execution": {
     "iopub.execute_input": "2024-05-10T08:22:14.874891Z",
     "iopub.status.busy": "2024-05-10T08:22:14.873782Z",
     "iopub.status.idle": "2024-05-10T08:22:23.111835Z",
     "shell.execute_reply": "2024-05-10T08:22:23.110671Z"
    },
    "papermill": {
     "duration": 8.251449,
     "end_time": "2024-05-10T08:22:23.114644",
     "exception": false,
     "start_time": "2024-05-10T08:22:14.863195",
     "status": "completed"
    },
    "tags": []
   },
   "outputs": [
    {
     "name": "stderr",
     "output_type": "stream",
     "text": [
      "Attaching 'config.json' from model 'keras/efficientnetv2/keras/efficientnetv2_b2_imagenet/2' to your Kaggle notebook...\n",
      "Attaching 'config.json' from model 'keras/efficientnetv2/keras/efficientnetv2_b2_imagenet/2' to your Kaggle notebook...\n",
      "Attaching 'model.weights.h5' from model 'keras/efficientnetv2/keras/efficientnetv2_b2_imagenet/2' to your Kaggle notebook...\n"
     ]
    }
   ],
   "source": [
    "eff_net_model = keras_cv.models.ImageClassifier.from_preset(\"efficientnetv2_b2_imagenet\", num_classes = 6)"
   ]
  },
  {
   "cell_type": "code",
   "execution_count": 11,
   "id": "2947beaf",
   "metadata": {
    "execution": {
     "iopub.execute_input": "2024-05-10T08:22:23.136209Z",
     "iopub.status.busy": "2024-05-10T08:22:23.135221Z",
     "iopub.status.idle": "2024-05-10T08:22:23.154149Z",
     "shell.execute_reply": "2024-05-10T08:22:23.152940Z"
    },
    "papermill": {
     "duration": 0.032627,
     "end_time": "2024-05-10T08:22:23.156988",
     "exception": false,
     "start_time": "2024-05-10T08:22:23.124361",
     "status": "completed"
    },
    "tags": []
   },
   "outputs": [],
   "source": [
    "def build_model_MK():\n",
    "    # Addiding the Last Dimension for compatibility with cwt_layer input shape which represent the channel axis\n",
    "    inp = tf.keras.Input(shape = (10000, 18, 1))\n",
    "    \n",
    "    scalogram_0 = cwt_layer(inp[:,:,0])\n",
    "    scalogram_0 = mos(scalogram_0)\n",
    "    scalogram_1 = cwt_layer(inp[:,:,1])\n",
    "    scalogram_1 = mos(scalogram_1)\n",
    "    scalogram_2 = cwt_layer(inp[:,:,2])\n",
    "    scalogram_2 = mos(scalogram_2)\n",
    "    scalogram_3 = cwt_layer(inp[:,:,3])\n",
    "    scalogram_3 = mos(scalogram_3)\n",
    "    scalogram_4 = cwt_layer(inp[:,:,4])\n",
    "    scalogram_4 = mos(scalogram_4)\n",
    "    scalogram_5 = cwt_layer(inp[:,:,5])\n",
    "    scalogram_5 = mos(scalogram_5)\n",
    "    scalogram_6 = cwt_layer(inp[:,:,6])\n",
    "    scalogram_6 = mos(scalogram_6)\n",
    "    scalogram_7 = cwt_layer(inp[:,:,7])\n",
    "    scalogram_7 = mos(scalogram_7)\n",
    "    scalogram_8 = cwt_layer(inp[:,:,8])\n",
    "    scalogram_8 = mos(scalogram_8)\n",
    "    scalogram_9 = cwt_layer(inp[:,:,9])\n",
    "    scalogram_9 = mos(scalogram_9)\n",
    "    scalogram_10 = cwt_layer(inp[:,:,10])\n",
    "    scalogram_10 = mos(scalogram_10)\n",
    "    scalogram_11 = cwt_layer(inp[:,:,11])\n",
    "    scalogram_11 = mos(scalogram_11)\n",
    "    scalogram_12 = cwt_layer(inp[:,:,12])\n",
    "    scalogram_12 = mos(scalogram_12)\n",
    "    scalogram_13 = cwt_layer(inp[:,:,13])\n",
    "    scalogram_13 = mos(scalogram_13)\n",
    "    scalogram_14 = cwt_layer(inp[:,:,14])\n",
    "    scalogram_14 = mos(scalogram_14)\n",
    "    scalogram_15 = cwt_layer(inp[:,:,15])\n",
    "    scalogram_15 = mos(scalogram_15)\n",
    "    scalogram_16 = cwt_layer(inp[:,:,16])\n",
    "    scalogram_16 = mos(scalogram_16)\n",
    "    scalogram_17 = cwt_layer(inp[:,:,17])\n",
    "    scalogram_17 = mos(scalogram_17)\n",
    "    x1 = tf.keras.layers.Concatenate(axis = 2)([scalogram_0, scalogram_1,scalogram_2, scalogram_3,\n",
    "                                              scalogram_4, scalogram_5, scalogram_6, scalogram_7,\n",
    "                                              scalogram_8, scalogram_9, scalogram_10, scalogram_11,\n",
    "                                              scalogram_12, scalogram_13, scalogram_14, scalogram_15,\n",
    "                                               scalogram_16, scalogram_17])\n",
    "    \n",
    "    x2 = Permute((2,1,3))(x1)\n",
    "    x3 = tf.keras.layers.Resizing(height=512, width=512, interpolation='nearest')(x2)\n",
    "    x4 = scale(x3)\n",
    "    x5 = tf.keras.layers.Concatenate(axis=3)([x4,x4,x4])\n",
    "    \n",
    "    out = eff_net_model(x5)\n",
    "    \n",
    "    final_model = Model(inputs = inp, outputs = out)\n",
    "    \n",
    "    opt = tf.keras.optimizers.Adam(learning_rate=1e-3)\n",
    "    loss = tf.keras.losses.KLDivergence()\n",
    "    final_model.compile(loss=loss, optimizer = opt)\n",
    "    \n",
    "    return final_model"
   ]
  },
  {
   "cell_type": "code",
   "execution_count": 12,
   "id": "1e6800e4",
   "metadata": {
    "execution": {
     "iopub.execute_input": "2024-05-10T08:22:23.177804Z",
     "iopub.status.busy": "2024-05-10T08:22:23.177403Z",
     "iopub.status.idle": "2024-05-10T08:22:34.147093Z",
     "shell.execute_reply": "2024-05-10T08:22:34.146080Z"
    },
    "papermill": {
     "duration": 10.983178,
     "end_time": "2024-05-10T08:22:34.149734",
     "exception": false,
     "start_time": "2024-05-10T08:22:23.166556",
     "status": "completed"
    },
    "tags": []
   },
   "outputs": [
    {
     "name": "stderr",
     "output_type": "stream",
     "text": [
      "/opt/conda/lib/python3.10/site-packages/keras/src/saving/saving_lib.py:418: UserWarning: Skipping variable loading for optimizer 'adam', because it has 2 variables whereas the saved optimizer has 622 variables. \n",
      "  trackable.load_own_variables(weights_store.get(inner_path))\n"
     ]
    }
   ],
   "source": [
    "model = build_model_MK()\n",
    "model.load_weights(\"/kaggle/input/effnet-keras-hms-models/Eff_Net_v10_f1.keras\")"
   ]
  },
  {
   "cell_type": "markdown",
   "id": "9f65e195",
   "metadata": {
    "papermill": {
     "duration": 0.009854,
     "end_time": "2024-05-10T08:22:34.169426",
     "exception": false,
     "start_time": "2024-05-10T08:22:34.159572",
     "status": "completed"
    },
    "tags": []
   },
   "source": [
    "# Make Prediction on Test Data"
   ]
  },
  {
   "cell_type": "markdown",
   "id": "53986c1f",
   "metadata": {
    "papermill": {
     "duration": 0.009235,
     "end_time": "2024-05-10T08:22:34.188549",
     "exception": false,
     "start_time": "2024-05-10T08:22:34.179314",
     "status": "completed"
    },
    "tags": []
   },
   "source": [
    "## Read Test Data"
   ]
  },
  {
   "cell_type": "code",
   "execution_count": 13,
   "id": "eb2ed291",
   "metadata": {
    "execution": {
     "iopub.execute_input": "2024-05-10T08:22:34.209391Z",
     "iopub.status.busy": "2024-05-10T08:22:34.208989Z",
     "iopub.status.idle": "2024-05-10T08:22:34.236732Z",
     "shell.execute_reply": "2024-05-10T08:22:34.235652Z"
    },
    "papermill": {
     "duration": 0.041146,
     "end_time": "2024-05-10T08:22:34.239345",
     "exception": false,
     "start_time": "2024-05-10T08:22:34.198199",
     "status": "completed"
    },
    "tags": []
   },
   "outputs": [
    {
     "name": "stdout",
     "output_type": "stream",
     "text": [
      "Test shape: (1, 3)\n"
     ]
    },
    {
     "data": {
      "text/html": [
       "<div>\n",
       "<style scoped>\n",
       "    .dataframe tbody tr th:only-of-type {\n",
       "        vertical-align: middle;\n",
       "    }\n",
       "\n",
       "    .dataframe tbody tr th {\n",
       "        vertical-align: top;\n",
       "    }\n",
       "\n",
       "    .dataframe thead th {\n",
       "        text-align: right;\n",
       "    }\n",
       "</style>\n",
       "<table border=\"1\" class=\"dataframe\">\n",
       "  <thead>\n",
       "    <tr style=\"text-align: right;\">\n",
       "      <th></th>\n",
       "      <th>spectrogram_id</th>\n",
       "      <th>eeg_id</th>\n",
       "      <th>patient_id</th>\n",
       "    </tr>\n",
       "  </thead>\n",
       "  <tbody>\n",
       "    <tr>\n",
       "      <th>0</th>\n",
       "      <td>853520</td>\n",
       "      <td>3911565283</td>\n",
       "      <td>6885</td>\n",
       "    </tr>\n",
       "  </tbody>\n",
       "</table>\n",
       "</div>"
      ],
      "text/plain": [
       "   spectrogram_id      eeg_id  patient_id\n",
       "0          853520  3911565283        6885"
      ]
     },
     "execution_count": 13,
     "metadata": {},
     "output_type": "execute_result"
    }
   ],
   "source": [
    "# Reading Testing data\n",
    "test = pd.read_csv('/kaggle/input/hms-harmful-brain-activity-classification/test.csv')\n",
    "print('Test shape:',test.shape)\n",
    "test.head()"
   ]
  },
  {
   "cell_type": "markdown",
   "id": "a9a7d047",
   "metadata": {
    "papermill": {
     "duration": 0.009771,
     "end_time": "2024-05-10T08:22:34.258897",
     "exception": false,
     "start_time": "2024-05-10T08:22:34.249126",
     "status": "completed"
    },
    "tags": []
   },
   "source": [
    "## Generate Test data "
   ]
  },
  {
   "cell_type": "code",
   "execution_count": 14,
   "id": "33334f35",
   "metadata": {
    "execution": {
     "iopub.execute_input": "2024-05-10T08:22:34.280553Z",
     "iopub.status.busy": "2024-05-10T08:22:34.280157Z",
     "iopub.status.idle": "2024-05-10T08:22:34.285330Z",
     "shell.execute_reply": "2024-05-10T08:22:34.284389Z"
    },
    "papermill": {
     "duration": 0.018523,
     "end_time": "2024-05-10T08:22:34.287616",
     "exception": false,
     "start_time": "2024-05-10T08:22:34.269093",
     "status": "completed"
    },
    "tags": []
   },
   "outputs": [],
   "source": [
    "test_gen = DataGenerator(test, shuffle = False, batch_size = 64, mode = 'test')"
   ]
  },
  {
   "cell_type": "markdown",
   "id": "26744a16",
   "metadata": {
    "papermill": {
     "duration": 0.00958,
     "end_time": "2024-05-10T08:22:34.306992",
     "exception": false,
     "start_time": "2024-05-10T08:22:34.297412",
     "status": "completed"
    },
    "tags": []
   },
   "source": [
    "## Predictions"
   ]
  },
  {
   "cell_type": "code",
   "execution_count": 15,
   "id": "5549e6bf",
   "metadata": {
    "execution": {
     "iopub.execute_input": "2024-05-10T08:22:34.328891Z",
     "iopub.status.busy": "2024-05-10T08:22:34.327889Z",
     "iopub.status.idle": "2024-05-10T08:22:39.418345Z",
     "shell.execute_reply": "2024-05-10T08:22:39.417274Z"
    },
    "papermill": {
     "duration": 5.104442,
     "end_time": "2024-05-10T08:22:39.421184",
     "exception": false,
     "start_time": "2024-05-10T08:22:34.316742",
     "status": "completed"
    },
    "tags": []
   },
   "outputs": [
    {
     "name": "stderr",
     "output_type": "stream",
     "text": [
      "/opt/conda/lib/python3.10/site-packages/keras/src/trainers/data_adapters/py_dataset_adapter.py:120: UserWarning: Your `PyDataset` class should call `super().__init__(**kwargs)` in its constructor. `**kwargs` can include `workers`, `use_multiprocessing`, `max_queue_size`. Do not pass these arguments to `fit()`, as they will be ignored.\n",
      "  self._warn_if_super_not_called()\n"
     ]
    },
    {
     "name": "stdout",
     "output_type": "stream",
     "text": [
      "\u001b[1m1/1\u001b[0m \u001b[32m━━━━━━━━━━━━━━━━━━━━\u001b[0m\u001b[37m\u001b[0m \u001b[1m5s\u001b[0m 5s/step\n"
     ]
    }
   ],
   "source": [
    "pred = model.predict(test_gen, verbose=1)"
   ]
  },
  {
   "cell_type": "markdown",
   "id": "059aafe9",
   "metadata": {
    "papermill": {
     "duration": 0.010816,
     "end_time": "2024-05-10T08:22:39.442865",
     "exception": false,
     "start_time": "2024-05-10T08:22:39.432049",
     "status": "completed"
    },
    "tags": []
   },
   "source": [
    "# Submit to CSV file"
   ]
  },
  {
   "cell_type": "code",
   "execution_count": 16,
   "id": "7547570e",
   "metadata": {
    "execution": {
     "iopub.execute_input": "2024-05-10T08:22:39.465252Z",
     "iopub.status.busy": "2024-05-10T08:22:39.464836Z",
     "iopub.status.idle": "2024-05-10T08:22:39.490303Z",
     "shell.execute_reply": "2024-05-10T08:22:39.489150Z"
    },
    "papermill": {
     "duration": 0.03968,
     "end_time": "2024-05-10T08:22:39.492825",
     "exception": false,
     "start_time": "2024-05-10T08:22:39.453145",
     "status": "completed"
    },
    "tags": []
   },
   "outputs": [
    {
     "name": "stdout",
     "output_type": "stream",
     "text": [
      "Submissionn shape (1, 7)\n"
     ]
    },
    {
     "data": {
      "text/html": [
       "<div>\n",
       "<style scoped>\n",
       "    .dataframe tbody tr th:only-of-type {\n",
       "        vertical-align: middle;\n",
       "    }\n",
       "\n",
       "    .dataframe tbody tr th {\n",
       "        vertical-align: top;\n",
       "    }\n",
       "\n",
       "    .dataframe thead th {\n",
       "        text-align: right;\n",
       "    }\n",
       "</style>\n",
       "<table border=\"1\" class=\"dataframe\">\n",
       "  <thead>\n",
       "    <tr style=\"text-align: right;\">\n",
       "      <th></th>\n",
       "      <th>eeg_id</th>\n",
       "      <th>seizure_vote</th>\n",
       "      <th>lpd_vote</th>\n",
       "      <th>gpd_vote</th>\n",
       "      <th>lrda_vote</th>\n",
       "      <th>grda_vote</th>\n",
       "      <th>other_vote</th>\n",
       "    </tr>\n",
       "  </thead>\n",
       "  <tbody>\n",
       "    <tr>\n",
       "      <th>0</th>\n",
       "      <td>3911565283</td>\n",
       "      <td>0.77015</td>\n",
       "      <td>0.005387</td>\n",
       "      <td>0.006731</td>\n",
       "      <td>0.006325</td>\n",
       "      <td>0.011388</td>\n",
       "      <td>0.200018</td>\n",
       "    </tr>\n",
       "  </tbody>\n",
       "</table>\n",
       "</div>"
      ],
      "text/plain": [
       "       eeg_id  seizure_vote  lpd_vote  gpd_vote  lrda_vote  grda_vote  \\\n",
       "0  3911565283       0.77015  0.005387  0.006731   0.006325   0.011388   \n",
       "\n",
       "   other_vote  \n",
       "0    0.200018  "
      ]
     },
     "execution_count": 16,
     "metadata": {},
     "output_type": "execute_result"
    }
   ],
   "source": [
    "TARGETS = ['seizure_vote', 'lpd_vote', 'gpd_vote', 'lrda_vote', 'grda_vote', 'other_vote']\n",
    "sub = pd.DataFrame({'eeg_id':test.eeg_id.values})\n",
    "sub[TARGETS] = pred\n",
    "sub.to_csv('/kaggle/working/submission.csv',index=False)\n",
    "print('Submissionn shape',sub.shape)\n",
    "sub.head()"
   ]
  }
 ],
 "metadata": {
  "kaggle": {
   "accelerator": "none",
   "dataSources": [
    {
     "databundleVersionId": 7469972,
     "sourceId": 59093,
     "sourceType": "competition"
    },
    {
     "datasetId": 4956133,
     "sourceId": 8343809,
     "sourceType": "datasetVersion"
    },
    {
     "datasetId": 4961634,
     "sourceId": 8351009,
     "sourceType": "datasetVersion"
    },
    {
     "modelInstanceId": 4598,
     "sourceId": 6127,
     "sourceType": "modelInstanceVersion"
    }
   ],
   "dockerImageVersionId": 30698,
   "isGpuEnabled": false,
   "isInternetEnabled": false,
   "language": "python",
   "sourceType": "notebook"
  },
  "kernelspec": {
   "display_name": "Python 3",
   "language": "python",
   "name": "python3"
  },
  "language_info": {
   "codemirror_mode": {
    "name": "ipython",
    "version": 3
   },
   "file_extension": ".py",
   "mimetype": "text/x-python",
   "name": "python",
   "nbconvert_exporter": "python",
   "pygments_lexer": "ipython3",
   "version": "3.10.13"
  },
  "papermill": {
   "default_parameters": {},
   "duration": 52.125773,
   "end_time": "2024-05-10T08:22:42.275947",
   "environment_variables": {},
   "exception": null,
   "input_path": "__notebook__.ipynb",
   "output_path": "__notebook__.ipynb",
   "parameters": {},
   "start_time": "2024-05-10T08:21:50.150174",
   "version": "2.5.0"
  }
 },
 "nbformat": 4,
 "nbformat_minor": 5
}
